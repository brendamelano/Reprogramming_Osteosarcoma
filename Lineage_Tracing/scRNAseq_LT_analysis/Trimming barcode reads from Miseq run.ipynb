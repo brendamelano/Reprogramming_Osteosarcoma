{
 "cells": [
  {
   "cell_type": "code",
   "execution_count": null,
   "id": "f105215a",
   "metadata": {},
   "outputs": [],
   "source": [
    "%%bash\n",
    "module load CBI\n",
    "module load cutadapt"
   ]
  },
  {
   "cell_type": "code",
   "execution_count": null,
   "id": "6f9d1204",
   "metadata": {},
   "outputs": [],
   "source": [
    "# in vitro trimming\n",
    "%%bash\n",
    "\n",
    "## Extract the variable region\n",
    "#cutadapt -m 20: -M 32: -a ^GAAAGGACGAAACACCGGTGACGGCGCTAGGATCATCCAC...CACGTATTCTGGTCACAGAATACCAC -o miR1_S1_L001_R2_001.trim.fastq.gz -p miR1_S1_L001_R1_001.trim.fastq.gz miR1_S1_L001_R2_001.fastq.gz miR1_S1_L001_R1_001.fastq.gz\n",
    "\n",
    "\n",
    "# Read 1 trimming to get cell barcode\n",
    "cutadapt -u -14 -o OS384_in_vitro_R1.trim.fastq.gz 384-in-vitro_S2_L001_R1_001.fastq.gz\n",
    "\n",
    "\n",
    "# Read 2 trimming\n",
    "cutadapt -u -69 -g TAGCAAACTGGGGCACAAGCTTAATtaagaatt -o OS384_in_vitro_R2.trim.fastq.gz 384-in-vitro_S2_L001_R2_001.fastq.gz\n"
   ]
  },
  {
   "cell_type": "code",
   "execution_count": null,
   "id": "6d75399e",
   "metadata": {},
   "outputs": [],
   "source": [
    "# printing the first 2 lines to a file from the fastq file\n",
    "awk 'NR%4<3' OS384_in_vitro_R2.trim.fastq > OS384_in_vitro_LT_barcodes_trimmed.txt"
   ]
  },
  {
   "cell_type": "code",
   "execution_count": null,
   "id": "500e6fd0",
   "metadata": {},
   "outputs": [],
   "source": [
    "# copying in the timmed files"
   ]
  },
  {
   "cell_type": "code",
   "execution_count": 1,
   "id": "714c5149",
   "metadata": {},
   "outputs": [],
   "source": [
    "from Bio import SeqIO\n",
    "import gzip"
   ]
  },
  {
   "cell_type": "code",
   "execution_count": 12,
   "id": "3f5e8e1c",
   "metadata": {},
   "outputs": [],
   "source": [
    "# Here I add the cbc and umi sequence, which is in R1 to the read name in R2, so that I have everything in one place\n",
    "fq1 = SeqIO.parse(\"~/Desktop/OS_LT_scRNAseq_analysis/LT_barocdes_scRNAseq-377243219/2_L001-ds.99e8b015225848bbbd4d442558010215/384-in-vitro_S2_L001_R2_001.fastq\",  \"fastq\")\n",
    "fq2 = SeqIO.parse(\"~/Desktop/OS_LT_scRNAseq_analysis/OS384_in_vitro_R1.trim.fastq\",  \"fastq\")\n",
    "out = gzip.open(\"~/Desktop/OS_LT_scRNAseq_analysis/OS384_in_vitro_LT_barcodes.fastq.gz\", \"wt\")\n",
    "\n",
    "for (r1, r2) in zip(fq1, fq2):\n",
    "    name = str(r1.name)\n",
    "    cbc_umi = str(r2.seq)[:16]\n",
    "    r1.description = name+'_'+cbc_umi\n",
    "    r1.name = name+'_'+cbc_umi\n",
    "    r1.id = name+'_'+cbc_umi\n",
    "    out.write((r2+r1).format(\"fastq\"))\n",
    "out.close()"
   ]
  },
  {
   "cell_type": "code",
   "execution_count": null,
   "id": "c911c199",
   "metadata": {},
   "outputs": [],
   "source": [
    "# printing out only the DNA sequences from the file into text file\n",
    "%%bash\n",
    "awk '(NR%4==2)' OS384_in_vitro_LT_barcodes.fastq > OS384_in_vitro_LT_barcodes.txt"
   ]
  },
  {
   "cell_type": "code",
   "execution_count": 3,
   "id": "d67b63e9",
   "metadata": {},
   "outputs": [
    {
     "name": "stdout",
     "output_type": "stream",
     "text": [
      "zcat: can't stat: OS384_in_vitro_LT_barcodes.fastq.gz (OS384_in_vitro_LT_barcodes.fastq.gz.Z): No such file or directory\r\n"
     ]
    }
   ],
   "source": [
    "#!zcat  OS384_in_vitro_LT_barcodes.fastq.gz | head"
   ]
  }
 ],
 "metadata": {
  "kernelspec": {
   "display_name": "Python 3 (ipykernel)",
   "language": "python",
   "name": "python3"
  },
  "language_info": {
   "codemirror_mode": {
    "name": "ipython",
    "version": 3
   },
   "file_extension": ".py",
   "mimetype": "text/x-python",
   "name": "python",
   "nbconvert_exporter": "python",
   "pygments_lexer": "ipython3",
   "version": "3.9.17"
  }
 },
 "nbformat": 4,
 "nbformat_minor": 5
}
