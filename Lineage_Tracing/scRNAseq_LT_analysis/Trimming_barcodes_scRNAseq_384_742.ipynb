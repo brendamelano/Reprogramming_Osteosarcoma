{
 "cells": [
  {
   "cell_type": "code",
   "execution_count": 1,
   "id": "3cdcd4be",
   "metadata": {},
   "outputs": [
    {
     "ename": "ModuleNotFoundError",
     "evalue": "No module named 'Bio'",
     "output_type": "error",
     "traceback": [
      "\u001b[0;31m---------------------------------------------------------------------------\u001b[0m",
      "\u001b[0;31mModuleNotFoundError\u001b[0m                       Traceback (most recent call last)",
      "Cell \u001b[0;32mIn[1], line 1\u001b[0m\n\u001b[0;32m----> 1\u001b[0m \u001b[38;5;28;01mfrom\u001b[39;00m \u001b[38;5;21;01mBio\u001b[39;00m \u001b[38;5;28;01mimport\u001b[39;00m SeqIO\n\u001b[1;32m      2\u001b[0m \u001b[38;5;28;01mimport\u001b[39;00m \u001b[38;5;21;01mgzip\u001b[39;00m\n",
      "\u001b[0;31mModuleNotFoundError\u001b[0m: No module named 'Bio'"
     ]
    }
   ],
   "source": [
    "from Bio import SeqIO\n",
    "import gzip\n",
    "import scanpy as sc"
   ]
  },
  {
   "cell_type": "code",
   "execution_count": null,
   "id": "f105215a",
   "metadata": {},
   "outputs": [],
   "source": [
    "%%bash\n",
    "module load CBI\n",
    "module load cutadapt"
   ]
  },
  {
   "cell_type": "code",
   "execution_count": 1,
   "id": "6f9d1204",
   "metadata": {},
   "outputs": [
    {
     "ename": "SyntaxError",
     "evalue": "invalid syntax (1437405939.py, line 9)",
     "output_type": "error",
     "traceback": [
      "\u001b[0;36m  Cell \u001b[0;32mIn[1], line 9\u001b[0;36m\u001b[0m\n\u001b[0;31m    cutadapt -u -14 -o OS384_in_vivo_R1.trim.fastq.gz 384-in-vivo_S1_L001_R1_001.fastq\u001b[0m\n\u001b[0m                       ^\u001b[0m\n\u001b[0;31mSyntaxError\u001b[0m\u001b[0;31m:\u001b[0m invalid syntax\n"
     ]
    }
   ],
   "source": [
    "# in vitro trimming\n",
    "%%bash\n",
    "\n",
    "## Extract the variable region\n",
    "#cutadapt -m 20: -M 32: -a ^GAAAGGACGAAACACCGGTGACGGCGCTAGGATCATCCAC...CACGTATTCTGGTCACAGAATACCAC -o miR1_S1_L001_R2_001.trim.fastq.gz -p miR1_S1_L001_R1_001.trim.fastq.gz miR1_S1_L001_R2_001.fastq.gz miR1_S1_L001_R1_001.fastq.gz\n",
    "\n",
    "\n",
    "# Read 1 trimming to get cell barcode\n",
    "cutadapt -u -14 -o OS384_in_vivo_R1.trim.fastq.gz 384-in-vivo_S1_L001_R1_001.fastq\n",
    "\n",
    "\n",
    "# Read 2 trimming\n",
    "cutadapt -u -69 -g TAGCAAACTGGGGCACAAGCTTAATtaagaatt -o OS384_in_vivo_R2.trim.fastq.gz 384-in-vivo_S1_L001_R2_001.fastq\n"
   ]
  },
  {
   "cell_type": "code",
   "execution_count": null,
   "id": "500e6fd0",
   "metadata": {},
   "outputs": [],
   "source": [
    "# copying in the timmed files"
   ]
  },
  {
   "cell_type": "code",
   "execution_count": 3,
   "id": "1dea9e40",
   "metadata": {},
   "outputs": [],
   "source": [
    "read1_file = \"/Users/bmelano/Desktop/scRNAseq_LT_analysis/OS384_inVivo_scRNAseq_barcode_analysis/384-in-vivo_S1_L001_R1_001.fastq\"\n",
    "read2_file = \"/Users/bmelano/Desktop/scRNAseq_LT_analysis/OS384_inVivo_scRNAseq_barcode_analysis/384-in-vivo_S1_L001_R2_001.fastq\"\n",
    "output_file = \"/Users/bmelano/Desktop/scRNAseq_LT_analysis/OS384_inVivo_scRNAseq_barcode_analysis/OS384_in_vivo_LT_barcodes.txt\"\n",
    "\n",
    "with open(read1_file, \"r\") as read1, open(read2_file, \"r\") as read2, open(output_file, \"w\") as output:\n",
    "    # Read the files line by line\n",
    "    while True:\n",
    "        # Read the four lines for read 1\n",
    "        read1_header = read1.readline().rstrip()\n",
    "        read1_sequence = read1.readline().rstrip()\n",
    "        read1_optional = read1.readline().rstrip()\n",
    "        read1_quality = read1.readline().rstrip()\n",
    "\n",
    "        # Read the four lines for read 2\n",
    "        read2_header = read2.readline().rstrip()\n",
    "        read2_sequence = read2.readline().rstrip()\n",
    "        read2_optional = read2.readline().rstrip()\n",
    "        read2_quality = read2.readline().rstrip()\n",
    "\n",
    "        # Check if we have reached the end of the files\n",
    "        if not read1_header or not read2_header:\n",
    "            break\n",
    "\n",
    "        # Merge the sequences\n",
    "        merged_sequence = read1_sequence + read2_sequence\n",
    "\n",
    "        # Write the merged sequence to the output file\n",
    "        output.write(merged_sequence + \"\\n\")"
   ]
  },
  {
   "cell_type": "markdown",
   "id": "c46beba0",
   "metadata": {},
   "source": [
    "# OS742 - combining the read 1 and read 2 reads to combine the 10X cell barcode and LT barcode"
   ]
  },
  {
   "cell_type": "code",
   "execution_count": 2,
   "id": "42db7989",
   "metadata": {},
   "outputs": [],
   "source": [
    "read1_file = \"/Users/brendamelano/Desktop/OS_LT_scRNAseq_analysis/OS742_LT_barcode_scRNA_S35_L006_R1_001.fastq\"\n",
    "read2_file = \"/Users/brendamelano/Desktop/OS_LT_scRNAseq_analysis/OS742_LT_barcode_scRNA_S35_L006_R2_001.fastq\"\n",
    "output_file = \"/Users/brendamelano/Desktop/OS_LT_scRNAseq_analysis/OS742_in_vivo_LT_barcodes.txt\"\n",
    "\n",
    "with open(read1_file, \"r\") as read1, open(read2_file, \"r\") as read2, open(output_file, \"w\") as output:\n",
    "    # Read the files line by line\n",
    "    while True:\n",
    "        # Read the four lines for read 1\n",
    "        read1_header = read1.readline().rstrip()\n",
    "        read1_sequence = read1.readline().rstrip()\n",
    "        read1_optional = read1.readline().rstrip()\n",
    "        read1_quality = read1.readline().rstrip()\n",
    "\n",
    "        # Read the four lines for read 2\n",
    "        read2_header = read2.readline().rstrip()\n",
    "        read2_sequence = read2.readline().rstrip()\n",
    "        read2_optional = read2.readline().rstrip()\n",
    "        read2_quality = read2.readline().rstrip()\n",
    "\n",
    "        # Check if we have reached the end of the files\n",
    "        if not read1_header or not read2_header:\n",
    "            break\n",
    "\n",
    "        # Merge the sequences\n",
    "        merged_sequence = read1_sequence + read2_sequence\n",
    "\n",
    "        # Write the merged sequence to the output file\n",
    "        output.write(merged_sequence + \"\\n\")"
   ]
  },
  {
   "cell_type": "code",
   "execution_count": null,
   "id": "c23f631d",
   "metadata": {},
   "outputs": [],
   "source": [
    "# Needs to be done on a server\n",
    "barcode_text = sc.read_text(\"/Users/brendamelano/Desktop/Osteo_Lineage_Tracing_Analysis/OS742_in_vivo_LT_barcodes.txt\")\n"
   ]
  },
  {
   "cell_type": "code",
   "execution_count": 3,
   "id": "d67b63e9",
   "metadata": {},
   "outputs": [
    {
     "name": "stdout",
     "output_type": "stream",
     "text": [
      "zcat: can't stat: OS384_in_vitro_LT_barcodes.fastq.gz (OS384_in_vitro_LT_barcodes.fastq.gz.Z): No such file or directory\r\n"
     ]
    }
   ],
   "source": [
    "#!zcat  OS384_in_vitro_LT_barcodes.fastq.gz | head"
   ]
  }
 ],
 "metadata": {
  "kernelspec": {
   "display_name": "Python 3 (ipykernel)",
   "language": "python",
   "name": "python3"
  },
  "language_info": {
   "codemirror_mode": {
    "name": "ipython",
    "version": 3
   },
   "file_extension": ".py",
   "mimetype": "text/x-python",
   "name": "python",
   "nbconvert_exporter": "python",
   "pygments_lexer": "ipython3",
   "version": "3.9.17"
  }
 },
 "nbformat": 4,
 "nbformat_minor": 5
}
