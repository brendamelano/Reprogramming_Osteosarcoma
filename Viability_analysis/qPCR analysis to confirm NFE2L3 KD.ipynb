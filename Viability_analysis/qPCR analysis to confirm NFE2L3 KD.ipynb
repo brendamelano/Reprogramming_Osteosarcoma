{
 "cells": [
  {
   "cell_type": "code",
   "execution_count": 1,
   "id": "9ee90f0d",
   "metadata": {},
   "outputs": [],
   "source": [
    "import argparse\n",
    "import io\n",
    "from pathlib import Path\n",
    "\n",
    "import matplotlib.pyplot as plt\n",
    "import numpy as np\n",
    "import pandas as pd\n",
    "from scipy import stats"
   ]
  },
  {
   "cell_type": "code",
   "execution_count": 2,
   "id": "a16522f5",
   "metadata": {},
   "outputs": [],
   "source": [
    "df = pd.read_csv(\"/Users/brendamelano/Desktop/Reprogramming_Osteosarcoma/Viability_analysis/2024_12_17_BM_OS384_NFE2L3_NR0B2024_12_17_BM_OS384_NFE2L3_qPCR.csv\")"
   ]
  },
  {
   "cell_type": "code",
   "execution_count": 3,
   "id": "f795ae95",
   "metadata": {},
   "outputs": [
    {
     "data": {
      "text/html": [
       "<div>\n",
       "<style scoped>\n",
       "    .dataframe tbody tr th:only-of-type {\n",
       "        vertical-align: middle;\n",
       "    }\n",
       "\n",
       "    .dataframe tbody tr th {\n",
       "        vertical-align: top;\n",
       "    }\n",
       "\n",
       "    .dataframe thead th {\n",
       "        text-align: right;\n",
       "    }\n",
       "</style>\n",
       "<table border=\"1\" class=\"dataframe\">\n",
       "  <thead>\n",
       "    <tr style=\"text-align: right;\">\n",
       "      <th></th>\n",
       "      <th>Target</th>\n",
       "      <th>Sample</th>\n",
       "      <th>Cq</th>\n",
       "    </tr>\n",
       "  </thead>\n",
       "  <tbody>\n",
       "    <tr>\n",
       "      <th>0</th>\n",
       "      <td>GAPDH</td>\n",
       "      <td>NTCTRL</td>\n",
       "      <td>19.703061</td>\n",
       "    </tr>\n",
       "    <tr>\n",
       "      <th>1</th>\n",
       "      <td>GAPDH</td>\n",
       "      <td>NTCTRL</td>\n",
       "      <td>19.482573</td>\n",
       "    </tr>\n",
       "    <tr>\n",
       "      <th>2</th>\n",
       "      <td>GAPDH</td>\n",
       "      <td>NFE2L3_KD</td>\n",
       "      <td>18.971337</td>\n",
       "    </tr>\n",
       "    <tr>\n",
       "      <th>3</th>\n",
       "      <td>GAPDH</td>\n",
       "      <td>NTCTRL</td>\n",
       "      <td>19.574783</td>\n",
       "    </tr>\n",
       "    <tr>\n",
       "      <th>4</th>\n",
       "      <td>GAPDH</td>\n",
       "      <td>NTCTRL</td>\n",
       "      <td>19.364842</td>\n",
       "    </tr>\n",
       "    <tr>\n",
       "      <th>5</th>\n",
       "      <td>GAPDH</td>\n",
       "      <td>NFE2L3_KD</td>\n",
       "      <td>18.970120</td>\n",
       "    </tr>\n",
       "    <tr>\n",
       "      <th>6</th>\n",
       "      <td>GAPDH</td>\n",
       "      <td>NTCTRL</td>\n",
       "      <td>19.500483</td>\n",
       "    </tr>\n",
       "    <tr>\n",
       "      <th>7</th>\n",
       "      <td>GAPDH</td>\n",
       "      <td>NTCTRL</td>\n",
       "      <td>19.375377</td>\n",
       "    </tr>\n",
       "    <tr>\n",
       "      <th>8</th>\n",
       "      <td>GAPDH</td>\n",
       "      <td>NFE2L3_KD</td>\n",
       "      <td>19.029318</td>\n",
       "    </tr>\n",
       "    <tr>\n",
       "      <th>9</th>\n",
       "      <td>NFE2L3</td>\n",
       "      <td>NTCTRL</td>\n",
       "      <td>26.976777</td>\n",
       "    </tr>\n",
       "    <tr>\n",
       "      <th>10</th>\n",
       "      <td>NFE2L3</td>\n",
       "      <td>NTCTRL</td>\n",
       "      <td>26.982275</td>\n",
       "    </tr>\n",
       "    <tr>\n",
       "      <th>11</th>\n",
       "      <td>NFE2L3</td>\n",
       "      <td>NFE2L3_KD</td>\n",
       "      <td>27.303644</td>\n",
       "    </tr>\n",
       "    <tr>\n",
       "      <th>12</th>\n",
       "      <td>NFE2L3</td>\n",
       "      <td>NFE2L3_KD</td>\n",
       "      <td>27.279241</td>\n",
       "    </tr>\n",
       "    <tr>\n",
       "      <th>13</th>\n",
       "      <td>NFE2L3</td>\n",
       "      <td>NTCTRL</td>\n",
       "      <td>26.966032</td>\n",
       "    </tr>\n",
       "    <tr>\n",
       "      <th>14</th>\n",
       "      <td>NFE2L3</td>\n",
       "      <td>NTCTRL</td>\n",
       "      <td>26.949556</td>\n",
       "    </tr>\n",
       "    <tr>\n",
       "      <th>15</th>\n",
       "      <td>NFE2L3</td>\n",
       "      <td>NFE2L3_KD</td>\n",
       "      <td>27.303439</td>\n",
       "    </tr>\n",
       "    <tr>\n",
       "      <th>16</th>\n",
       "      <td>NFE2L3</td>\n",
       "      <td>NFE2L3_KD</td>\n",
       "      <td>27.299784</td>\n",
       "    </tr>\n",
       "    <tr>\n",
       "      <th>17</th>\n",
       "      <td>NFE2L3</td>\n",
       "      <td>NTCTRL</td>\n",
       "      <td>27.011095</td>\n",
       "    </tr>\n",
       "    <tr>\n",
       "      <th>18</th>\n",
       "      <td>NFE2L3</td>\n",
       "      <td>NTCTRL</td>\n",
       "      <td>26.905705</td>\n",
       "    </tr>\n",
       "    <tr>\n",
       "      <th>19</th>\n",
       "      <td>NFE2L3</td>\n",
       "      <td>NFE2L3_KD</td>\n",
       "      <td>27.238644</td>\n",
       "    </tr>\n",
       "    <tr>\n",
       "      <th>20</th>\n",
       "      <td>NFE2L3</td>\n",
       "      <td>NFE2L3_KD</td>\n",
       "      <td>27.248325</td>\n",
       "    </tr>\n",
       "  </tbody>\n",
       "</table>\n",
       "</div>"
      ],
      "text/plain": [
       "    Target     Sample         Cq\n",
       "0    GAPDH     NTCTRL  19.703061\n",
       "1    GAPDH     NTCTRL  19.482573\n",
       "2    GAPDH  NFE2L3_KD  18.971337\n",
       "3    GAPDH     NTCTRL  19.574783\n",
       "4    GAPDH     NTCTRL  19.364842\n",
       "5    GAPDH  NFE2L3_KD  18.970120\n",
       "6    GAPDH     NTCTRL  19.500483\n",
       "7    GAPDH     NTCTRL  19.375377\n",
       "8    GAPDH  NFE2L3_KD  19.029318\n",
       "9   NFE2L3     NTCTRL  26.976777\n",
       "10  NFE2L3     NTCTRL  26.982275\n",
       "11  NFE2L3  NFE2L3_KD  27.303644\n",
       "12  NFE2L3  NFE2L3_KD  27.279241\n",
       "13  NFE2L3     NTCTRL  26.966032\n",
       "14  NFE2L3     NTCTRL  26.949556\n",
       "15  NFE2L3  NFE2L3_KD  27.303439\n",
       "16  NFE2L3  NFE2L3_KD  27.299784\n",
       "17  NFE2L3     NTCTRL  27.011095\n",
       "18  NFE2L3     NTCTRL  26.905705\n",
       "19  NFE2L3  NFE2L3_KD  27.238644\n",
       "20  NFE2L3  NFE2L3_KD  27.248325"
      ]
     },
     "execution_count": 3,
     "metadata": {},
     "output_type": "execute_result"
    }
   ],
   "source": [
    "df"
   ]
  },
  {
   "cell_type": "code",
   "execution_count": 4,
   "id": "3f00caaf",
   "metadata": {},
   "outputs": [],
   "source": [
    "df[\"rep\"] = df.groupby([\"Target\", \"Sample\"]).cumcount()"
   ]
  },
  {
   "cell_type": "code",
   "execution_count": 6,
   "id": "dcfa1c49",
   "metadata": {},
   "outputs": [],
   "source": [
    "GOI          = \"NFE2L3\"       \n",
    "HOUSEKEEPING = \"GAPDH\"        \n",
    "CONTROL      = \"NTCTRL\"  "
   ]
  },
  {
   "cell_type": "code",
   "execution_count": 7,
   "id": "10a3a475",
   "metadata": {},
   "outputs": [],
   "source": [
    "hk  = df[df[\"Target\"] == HOUSEKEEPING][[\"Sample\", \"rep\", \"Cq\"]].rename(columns={\"Cq\": \"Ct_HK\"})\n",
    "goi = df[df[\"Target\"] == GOI][[\"Sample\", \"rep\", \"Cq\"]].rename(columns={\"Cq\": \"Ct_GOI\"})"
   ]
  },
  {
   "cell_type": "code",
   "execution_count": 10,
   "id": "72d32c39",
   "metadata": {},
   "outputs": [],
   "source": [
    "merged = pd.merge(goi, hk, on=[\"Sample\", \"rep\"], how=\"left\")"
   ]
  },
  {
   "cell_type": "code",
   "execution_count": 12,
   "id": "047a749c",
   "metadata": {},
   "outputs": [],
   "source": [
    "merged[\"Ct_HK\"] = merged.groupby(\"Sample\")[\"Ct_HK\"].transform(lambda x: x.fillna(x.mean()))\n"
   ]
  },
  {
   "cell_type": "code",
   "execution_count": 13,
   "id": "128ea6fe",
   "metadata": {},
   "outputs": [],
   "source": [
    "#ΔCt (normalise to housekeeping for every replicate)\n",
    "merged[\"ΔCt\"] = merged[\"Ct_GOI\"] - merged[\"Ct_HK\"]"
   ]
  },
  {
   "cell_type": "code",
   "execution_count": 15,
   "id": "be5f68e7",
   "metadata": {},
   "outputs": [],
   "source": [
    "#pair control and test replicates by 'rep', then ΔΔCt and 2^-ΔΔCt\n",
    "ctrl_dct = merged[merged[\"Sample\"] == CONTROL][[\"rep\", \"ΔCt\"]].rename(columns={\"ΔCt\": \"ΔCt_control\"})\n",
    "test_dct = merged[merged[\"Sample\"] != CONTROL][[\"Sample\", \"rep\", \"ΔCt\"]]"
   ]
  },
  {
   "cell_type": "code",
   "execution_count": 16,
   "id": "82322d7f",
   "metadata": {},
   "outputs": [],
   "source": [
    "paired = pd.merge(test_dct, ctrl_dct, on=\"rep\")\n",
    "paired[\"ΔΔCt\"]      = paired[\"ΔCt\"] - paired[\"ΔCt_control\"]\n",
    "paired[\"fold_change\"] = 2 ** (-paired[\"ΔΔCt\"])"
   ]
  },
  {
   "cell_type": "code",
   "execution_count": 17,
   "id": "958cc471",
   "metadata": {},
   "outputs": [],
   "source": [
    "summary = paired.groupby(\"Sample\")[\"fold_change\"].agg([\"mean\", \"std\", \"count\"])\n",
    "summary[\"sem\"] = summary[\"std\"] / np.sqrt(summary[\"count\"])"
   ]
  },
  {
   "cell_type": "code",
   "execution_count": 18,
   "id": "27b00917",
   "metadata": {},
   "outputs": [
    {
     "data": {
      "text/html": [
       "<div>\n",
       "<style scoped>\n",
       "    .dataframe tbody tr th:only-of-type {\n",
       "        vertical-align: middle;\n",
       "    }\n",
       "\n",
       "    .dataframe tbody tr th {\n",
       "        vertical-align: top;\n",
       "    }\n",
       "\n",
       "    .dataframe thead th {\n",
       "        text-align: right;\n",
       "    }\n",
       "</style>\n",
       "<table border=\"1\" class=\"dataframe\">\n",
       "  <thead>\n",
       "    <tr style=\"text-align: right;\">\n",
       "      <th></th>\n",
       "      <th>mean</th>\n",
       "      <th>std</th>\n",
       "      <th>count</th>\n",
       "      <th>sem</th>\n",
       "    </tr>\n",
       "    <tr>\n",
       "      <th>Sample</th>\n",
       "      <th></th>\n",
       "      <th></th>\n",
       "      <th></th>\n",
       "      <th></th>\n",
       "    </tr>\n",
       "  </thead>\n",
       "  <tbody>\n",
       "    <tr>\n",
       "      <th>NFE2L3_KD</th>\n",
       "      <td>0.566932</td>\n",
       "      <td>0.049091</td>\n",
       "      <td>6</td>\n",
       "      <td>0.020042</td>\n",
       "    </tr>\n",
       "  </tbody>\n",
       "</table>\n",
       "</div>"
      ],
      "text/plain": [
       "               mean       std  count       sem\n",
       "Sample                                        \n",
       "NFE2L3_KD  0.566932  0.049091      6  0.020042"
      ]
     },
     "execution_count": 18,
     "metadata": {},
     "output_type": "execute_result"
    }
   ],
   "source": [
    "summary"
   ]
  },
  {
   "cell_type": "code",
   "execution_count": 19,
   "id": "431a8331",
   "metadata": {},
   "outputs": [
    {
     "name": "stdout",
     "output_type": "stream",
     "text": [
      "Welch t-test NFE2L3_KD vs NTCTRL: p = 3.166e-06\n"
     ]
    }
   ],
   "source": [
    "for sample in summary.index:\n",
    "    t, p = stats.ttest_ind(\n",
    "        merged.loc[merged[\"Sample\"] == sample,  \"ΔCt\"],\n",
    "        merged.loc[merged[\"Sample\"] == CONTROL, \"ΔCt\"],\n",
    "        equal_var=False,\n",
    "    )\n",
    "    print(f\"Welch t-test {sample} vs {CONTROL}: p = {p:.4g}\")"
   ]
  },
  {
   "cell_type": "code",
   "execution_count": 20,
   "id": "2a2a0d72",
   "metadata": {},
   "outputs": [],
   "source": [
    "samples = [CONTROL] + list(summary.index)      \n",
    "means   = [1]       + list(summary[\"mean\"])\n",
    "errors  = [0]       + list(summary[\"sem\"])"
   ]
  },
  {
   "cell_type": "code",
   "execution_count": 21,
   "id": "86a2ccf0",
   "metadata": {},
   "outputs": [
    {
     "data": {
      "image/png": "[encoded data removed]",
      "text/plain": [
       "<Figure size 640x480 with 1 Axes>"
      ]
     },
     "metadata": {},
     "output_type": "display_data"
    }
   ],
   "source": [
    "x = np.arange(len(samples))\n",
    "plt.bar(x, means, yerr=errors, capsize=6)\n",
    "plt.xticks(x, samples)\n",
    "plt.ylabel(\"Relative expression (2$^{-\\\\Delta\\\\Delta C_t}$)\")\n",
    "plt.title(f\"{GOI} expression relative to {CONTROL}\")\n",
    "plt.tight_layout()\n",
    "plt.show()"
   ]
  },
  {
   "cell_type": "code",
   "execution_count": null,
   "id": "85674bb6",
   "metadata": {},
   "outputs": [],
   "source": []
  },
  {
   "cell_type": "code",
   "execution_count": null,
   "id": "d507c927",
   "metadata": {},
   "outputs": [],
   "source": []
  },
  {
   "cell_type": "code",
   "execution_count": null,
   "id": "70fe1d6a",
   "metadata": {},
   "outputs": [],
   "source": []
  }
 ],
 "metadata": {
  "kernelspec": {
   "display_name": "Python 3 (ipykernel)",
   "language": "python",
   "name": "python3"
  },
  "language_info": {
   "codemirror_mode": {
    "name": "ipython",
    "version": 3
   },
   "file_extension": ".py",
   "mimetype": "text/x-python",
   "name": "python",
   "nbconvert_exporter": "python",
   "pygments_lexer": "ipython3",
   "version": "3.9.17"
  }
 },
 "nbformat": 4,
 "nbformat_minor": 5
}
